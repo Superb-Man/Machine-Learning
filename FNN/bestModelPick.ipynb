{
 "cells": [
  {
   "cell_type": "code",
   "execution_count": 24,
   "metadata": {},
   "outputs": [],
   "source": [
    "import utils as ut\n",
    "import classes as nn\n",
    "\n",
    "import numpy as np\n",
    "from sklearn.model_selection import train_test_split\n",
    "import matplotlib.pyplot as plt\n",
    "import numpy as np\n",
    "from sklearn.preprocessing import OneHotEncoder\n",
    "from sklearn.metrics import accuracy_score\n",
    "from sklearn.metrics import f1_score\n",
    "from typing import List\n",
    "from sklearn.metrics import confusion_matrix\n",
    "import seaborn as sns\n",
    "import pickle\n",
    "import torch\n",
    "from torchvision import datasets, transforms\n",
    "import copy\n",
    "import os"
   ]
  },
  {
   "cell_type": "code",
   "execution_count": 25,
   "metadata": {},
   "outputs": [],
   "source": [
    "bestModel = None\n",
    "best_f1 = 0.\n",
    "# 0.0001,0.0003,0.0005,005\n",
    "light_models = ['light_model_0.0001.pkl', 'light_model_0.0003.pkl', 'light_model_0.0005.pkl', 'light_model_0.005.pkl']\n",
    "med_models = ['med_model_0.0001.pkl', 'med_model_0.0003.pkl', 'med_model_0.0005.pkl', 'med_model_0.005.pkl']\n",
    "heavy_models = ['heavy_model_0.0003.pkl', 'heavy_model_0.0005.pkl', 'heavy_model_0.005.pkl', 'heavy_model_0.0001.pkl']\n",
    "\n",
    "# load validation data from npy file\n",
    "x_val = np.load('x_val.npy')\n",
    "y_val = np.load('y_val.npy')\n",
    "\n",
    "for model in light_models:\n",
    "    model = nn.loadModel(model)\n",
    "    y_pred = nn.predict(model,x_val)\n",
    "    f1 = ut.F1_score(y_val, y_pred)\n",
    "    \n",
    "    if f1 > best_f1:\n",
    "        best_f1 = f1\n",
    "        bestModel = copy.deepcopy(model)\n",
    "\n",
    "for model in med_models:\n",
    "    model = nn.loadModel(model)\n",
    "    y_pred = nn.predict(model,x_val)\n",
    "    f1 = ut.F1_score(y_val, y_pred)\n",
    "    if f1 > best_f1:\n",
    "        best_f1 = f1\n",
    "        bestModel = copy.deepcopy(model)\n",
    "\n",
    "for model in heavy_models:\n",
    "    model = nn.loadModel(model)\n",
    "    y_pred = nn.predict(model,x_val)\n",
    "    f1 = ut.F1_score(y_val, y_pred)\n",
    "    # print(f1)\n",
    "    if f1 > best_f1:\n",
    "        best_f1 = f1\n",
    "        bestModel = copy.deepcopy(model)\n",
    "\n",
    "nn.saveModel(bestModel, 'best_model.pkl')"
   ]
  }
 ],
 "metadata": {
  "kernelspec": {
   "display_name": "Python 3",
   "language": "python",
   "name": "python3"
  },
  "language_info": {
   "codemirror_mode": {
    "name": "ipython",
    "version": 3
   },
   "file_extension": ".py",
   "mimetype": "text/x-python",
   "name": "python",
   "nbconvert_exporter": "python",
   "pygments_lexer": "ipython3",
   "version": "3.10.12"
  }
 },
 "nbformat": 4,
 "nbformat_minor": 2
}
